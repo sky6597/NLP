{
 "cells": [
  {
   "cell_type": "code",
   "execution_count": 18,
   "metadata": {},
   "outputs": [],
   "source": [
    "from nltk.corpus import wordnet"
   ]
  },
  {
   "cell_type": "code",
   "execution_count": 19,
   "metadata": {},
   "outputs": [],
   "source": [
    "synonyms=[]\n",
    "antonyms=[]"
   ]
  },
  {
   "cell_type": "code",
   "execution_count": 20,
   "metadata": {},
   "outputs": [],
   "source": [
    "#wordnet.synsets('good')"
   ]
  },
  {
   "cell_type": "code",
   "execution_count": 23,
   "metadata": {},
   "outputs": [],
   "source": [
    "for syn in wordnet.synsets('good'):\n",
    "    #print(syn)\n",
    "    for s in syn.lemmas():\n",
    "        synonyms.append(s.name())#it will just give the name removing the pos tag\\\n",
    "        for a in s.antonyms():\n",
    "            antonyms.append(a.name())"
   ]
  },
  {
   "cell_type": "code",
   "execution_count": 24,
   "metadata": {},
   "outputs": [
    {
     "name": "stdout",
     "output_type": "stream",
     "text": [
      "{'practiced', 'serious', 'dependable', 'right', 'adept', 'ripe', 'trade_good', 'proficient', 'skilful', 'unspoilt', 'beneficial', 'skillful', 'soundly', 'commodity', 'in_effect', 'safe', 'undecomposed', 'expert', 'respectable', 'near', 'secure', 'honorable', 'good', 'sound', 'honest', 'thoroughly', 'salutary', 'just', 'dear', 'effective', 'in_force', 'full', 'unspoiled', 'upright', 'well', 'goodness', 'estimable'}\n"
     ]
    }
   ],
   "source": [
    "print(set(synonyms))"
   ]
  },
  {
   "cell_type": "code",
   "execution_count": 25,
   "metadata": {},
   "outputs": [
    {
     "name": "stdout",
     "output_type": "stream",
     "text": [
      "{'evilness', 'bad', 'badness', 'evil', 'ill'}\n"
     ]
    }
   ],
   "source": [
    "print(set(antonyms))"
   ]
  },
  {
   "cell_type": "code",
   "execution_count": null,
   "metadata": {},
   "outputs": [],
   "source": []
  }
 ],
 "metadata": {
  "kernelspec": {
   "display_name": "Python 3",
   "language": "python",
   "name": "python3"
  },
  "language_info": {
   "codemirror_mode": {
    "name": "ipython",
    "version": 3
   },
   "file_extension": ".py",
   "mimetype": "text/x-python",
   "name": "python",
   "nbconvert_exporter": "python",
   "pygments_lexer": "ipython3",
   "version": "3.6.5"
  }
 },
 "nbformat": 4,
 "nbformat_minor": 2
}
