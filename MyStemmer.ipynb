{
 "cells": [
  {
   "cell_type": "code",
   "execution_count": 44,
   "metadata": {},
   "outputs": [],
   "source": [
    "import nltk\n",
    "from nltk.stem import PorterStemmer\n",
    "paragraph='''Thank you all so very much. Thank you to the Academy. Thank you to all of you in this room. I have to congratulate the other incredible nominees this year. The Revenant was the product of the tireless efforts of an unbelievable cast and crew. First off, to my brother in this endeavor, Mr. Tom Hardy. Tom, your talent on screen can only be surpassed by your friendship off screen … thank you for creating a transcendent cinematic experience. Thank you to everybody at Fox and New Regency … my entire team. I have to thank everyone from the very onset of my career … To my parents; none of this would be possible without you. And to my friends, I love you dearly; you know who you are. And lastly, I just want to say this: Making The Revenant was about man's relationship to the natural world. A world that we collectively felt in 2015 as the hottest year in recorded history. Our production needed to move to the southern tip of this planet just to be able to find snow. Climate change is real, it is happening right now. It is the most urgent threat facing our entire species, and we need to work collectively together and stop procrastinating. We need to support leaders around the world who do not speak for the big polluters, but who speak for all of humanity, for the indigenous people of the world, for the billions and billions of underprivileged people out there who would be most affected by this. For our children’s children, and for those people out there whose voices have been drowned out by the politics of greed. I thank you all for this amazing award tonight. Let us not take this planet for granted. I do not take tonight for granted. Thank you so very much.\n",
    "'''"
   ]
  },
  {
   "cell_type": "code",
   "execution_count": 45,
   "metadata": {},
   "outputs": [],
   "source": [
    "sentences=nltk.sent_tokenize(paragraph)"
   ]
  },
  {
   "cell_type": "code",
   "execution_count": 46,
   "metadata": {},
   "outputs": [],
   "source": [
    "stemmer=PorterStemmer()"
   ]
  },
  {
   "cell_type": "code",
   "execution_count": 43,
   "metadata": {},
   "outputs": [
    {
     "name": "stdout",
     "output_type": "stream",
     "text": [
      "['thank you all so veri much .', 'thank you to the academi .', 'thank you to all of you in thi room .', 'I have to congratul the other incr nomin thi year .', 'the reven wa the product of the tireless effort of an unbeliev cast and crew .', 'first off , to my brother in thi endeavor , mr. tom hardi .', 'tom , your talent on screen can onli be surpass by your friendship off screen … thank you for creat a transcend cinemat experi .', 'thank you to everybodi at fox and new regenc … my entir team .', 'I have to thank everyon from the veri onset of my career … To my parent ; none of thi would be possibl without you .', 'and to my friend , I love you dearli ; you know who you are .', \"and lastli , I just want to say thi : make the reven wa about man 's relationship to the natur world .\", 'A world that we collect felt in 2015 as the hottest year in record histori .', 'our product need to move to the southern tip of thi planet just to be abl to find snow .', 'climat chang is real , it is happen right now .', 'It is the most urgent threat face our entir speci , and we need to work collect togeth and stop procrastin .', 'We need to support leader around the world who do not speak for the big pollut , but who speak for all of human , for the indigen peopl of the world , for the billion and billion of underprivileg peopl out there who would be most affect by thi .', 'for our children ’ s children , and for those peopl out there whose voic have been drown out by the polit of greed .', 'I thank you all for thi amaz award tonight .', 'let us not take thi planet for grant .', 'I do not take tonight for grant .', 'thank you so veri much .']\n"
     ]
    }
   ],
   "source": [
    "for i in range(len(sentences)):\n",
    "    words=nltk.word_tokenize(sentences[i])\n",
    "    newwords=[stemmer.stem(words) for words in words]\n",
    "    sentences[i]=' '.join(newwords)\n",
    "print(sentences)\n",
    "    #newparagraph=' '.join(sentences[i])\n",
    "    #print(newparagraph)"
   ]
  },
  {
   "cell_type": "code",
   "execution_count": 47,
   "metadata": {},
   "outputs": [
    {
     "name": "stdout",
     "output_type": "stream",
     "text": [
      "['thank', 'you', 'all', 'so', 'veri', 'much', '.', 'thank', 'you', 'to', 'the', 'academi', '.', 'thank', 'you', 'to', 'all', 'of', 'you', 'in', 'thi', 'room', '.', 'I', 'have', 'to', 'congratul', 'the', 'other', 'incred', 'nomine', 'thi', 'year', '.', 'the', 'reven', 'wa', 'the', 'product', 'of', 'the', 'tireless', 'effort', 'of', 'an', 'unbeliev', 'cast', 'and', 'crew', '.', 'first', 'off', ',', 'to', 'my', 'brother', 'in', 'thi', 'endeavor', ',', 'mr.', 'tom', 'hardi', '.', 'tom', ',', 'your', 'talent', 'on', 'screen', 'can', 'onli', 'be', 'surpass', 'by', 'your', 'friendship', 'off', 'screen', '…', 'thank', 'you', 'for', 'creat', 'a', 'transcend', 'cinemat', 'experi', '.', 'thank', 'you', 'to', 'everybodi', 'at', 'fox', 'and', 'new', 'regenc', '…', 'my', 'entir', 'team', '.', 'I', 'have', 'to', 'thank', 'everyon', 'from', 'the', 'veri', 'onset', 'of', 'my', 'career', '…', 'To', 'my', 'parent', ';', 'none', 'of', 'thi', 'would', 'be', 'possibl', 'without', 'you', '.', 'and', 'to', 'my', 'friend', ',', 'I', 'love', 'you', 'dearli', ';', 'you', 'know', 'who', 'you', 'are', '.', 'and', 'lastli', ',', 'I', 'just', 'want', 'to', 'say', 'thi', ':', 'make', 'the', 'reven', 'wa', 'about', 'man', \"'s\", 'relationship', 'to', 'the', 'natur', 'world', '.', 'A', 'world', 'that', 'we', 'collect', 'felt', 'in', '2015', 'as', 'the', 'hottest', 'year', 'in', 'record', 'histori', '.', 'our', 'product', 'need', 'to', 'move', 'to', 'the', 'southern', 'tip', 'of', 'thi', 'planet', 'just', 'to', 'be', 'abl', 'to', 'find', 'snow', '.', 'climat', 'chang', 'is', 'real', ',', 'it', 'is', 'happen', 'right', 'now', '.', 'It', 'is', 'the', 'most', 'urgent', 'threat', 'face', 'our', 'entir', 'speci', ',', 'and', 'we', 'need', 'to', 'work', 'collect', 'togeth', 'and', 'stop', 'procrastin', '.', 'We', 'need', 'to', 'support', 'leader', 'around', 'the', 'world', 'who', 'do', 'not', 'speak', 'for', 'the', 'big', 'pollut', ',', 'but', 'who', 'speak', 'for', 'all', 'of', 'human', ',', 'for', 'the', 'indigen', 'peopl', 'of', 'the', 'world', ',', 'for', 'the', 'billion', 'and', 'billion', 'of', 'underprivileg', 'peopl', 'out', 'there', 'who', 'would', 'be', 'most', 'affect', 'by', 'thi', '.', 'for', 'our', 'children', '’', 's', 'children', ',', 'and', 'for', 'those', 'peopl', 'out', 'there', 'whose', 'voic', 'have', 'been', 'drown', 'out', 'by', 'the', 'polit', 'of', 'greed', '.', 'I', 'thank', 'you', 'all', 'for', 'thi', 'amaz', 'award', 'tonight', '.', 'let', 'us', 'not', 'take', 'thi', 'planet', 'for', 'grant', '.', 'I', 'do', 'not', 'take', 'tonight', 'for', 'grant', '.', 'thank', 'you', 'so', 'veri', 'much', '.']\n"
     ]
    }
   ],
   "source": [
    "words=nltk.word_tokenize(paragraph)\n",
    "newwords=[stemmer.stem(words) for words in words]\n",
    "\n",
    "print(newwords)"
   ]
  },
  {
   "cell_type": "code",
   "execution_count": null,
   "metadata": {},
   "outputs": [],
   "source": []
  }
 ],
 "metadata": {
  "kernelspec": {
   "display_name": "Python 3",
   "language": "python",
   "name": "python3"
  },
  "language_info": {
   "codemirror_mode": {
    "name": "ipython",
    "version": 3
   },
   "file_extension": ".py",
   "mimetype": "text/x-python",
   "name": "python",
   "nbconvert_exporter": "python",
   "pygments_lexer": "ipython3",
   "version": "3.6.5"
  }
 },
 "nbformat": 4,
 "nbformat_minor": 2
}
