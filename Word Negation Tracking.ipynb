{
 "cells": [
  {
   "cell_type": "code",
   "execution_count": 40,
   "metadata": {},
   "outputs": [],
   "source": [
    "import nltk\n",
    "from nltk.corpus import wordnet"
   ]
  },
  {
   "cell_type": "code",
   "execution_count": 41,
   "metadata": {},
   "outputs": [],
   "source": [
    "text=''' I was not happy with the team's performance.'''"
   ]
  },
  {
   "cell_type": "code",
   "execution_count": 48,
   "metadata": {},
   "outputs": [],
   "source": [
    "words=nltk.word_tokenize(text)\n",
    "new_words=[]"
   ]
  },
  {
   "cell_type": "code",
   "execution_count": 43,
   "metadata": {},
   "outputs": [],
   "source": [
    "tempword=''\n",
    "for word in words:\n",
    "    if word=='not':\n",
    "        tempword='not_'\n",
    "        \n",
    "    elif tempword=='not_':\n",
    "        #print(word)\n",
    "        word=tempword+word\n",
    "        tempword=''\n",
    "    if word != 'not':\n",
    "        new_words.append(word)\n",
    "sentence=' '.join(new_words)"
   ]
  },
  {
   "cell_type": "code",
   "execution_count": 49,
   "metadata": {},
   "outputs": [],
   "source": [
    "tempword=''\n",
    "for word in words:\n",
    "    antonym=[]\n",
    "    if word=='not':\n",
    "        tempword='not_'\n",
    "        \n",
    "    elif tempword=='not_':\n",
    "        for syn in wordnet.synsets(word):\n",
    "            for s in syn.lemmas():\n",
    "                for a in s.antonyms():\n",
    "                    antonym.append(a.name())\n",
    "        if (len(antonym))>=1:\n",
    "            word=antonym[0]\n",
    "        else:\n",
    "            word=tempword+word\n",
    "        tempword=''\n",
    "    if word != 'not':\n",
    "        new_words.append(word)\n",
    "sentence=' '.join(new_words)"
   ]
  },
  {
   "cell_type": "code",
   "execution_count": null,
   "metadata": {},
   "outputs": [],
   "source": []
  },
  {
   "cell_type": "code",
   "execution_count": 50,
   "metadata": {},
   "outputs": [
    {
     "name": "stdout",
     "output_type": "stream",
     "text": [
      "I was unhappy with the team 's performance .\n"
     ]
    }
   ],
   "source": [
    "print(sentence)"
   ]
  },
  {
   "cell_type": "code",
   "execution_count": null,
   "metadata": {},
   "outputs": [],
   "source": []
  }
 ],
 "metadata": {
  "kernelspec": {
   "display_name": "Python 3",
   "language": "python",
   "name": "python3"
  },
  "language_info": {
   "codemirror_mode": {
    "name": "ipython",
    "version": 3
   },
   "file_extension": ".py",
   "mimetype": "text/x-python",
   "name": "python",
   "nbconvert_exporter": "python",
   "pygments_lexer": "ipython3",
   "version": "3.6.5"
  }
 },
 "nbformat": 4,
 "nbformat_minor": 2
}
