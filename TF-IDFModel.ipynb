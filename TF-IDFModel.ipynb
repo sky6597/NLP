{
 "cells": [
  {
   "cell_type": "code",
   "execution_count": 1,
   "metadata": {},
   "outputs": [],
   "source": [
    "#tf-idf\n",
    "#TF= Term Frequency\n",
    "#IDF= inverse document frequency\n",
    "#TF-IDF= TF*IDF\n",
    "#Tf=(number of occourance of a word in a document)/(number of words in that document)\n",
    "#IDF=log((Number of documents)/(Number of documents containing word))"
   ]
  },
  {
   "cell_type": "code",
   "execution_count": 2,
   "metadata": {},
   "outputs": [],
   "source": [
    "import nltk\n",
    "import re\n",
    "import heapq\n",
    "import numpy as np"
   ]
  },
  {
   "cell_type": "code",
   "execution_count": 3,
   "metadata": {},
   "outputs": [],
   "source": [
    "paragraph='''Thank you all so very much. Thank you to the Academy. Thank you to all of you in this room. I have to congratulate the other incredible nominees this year. The Revenant was the product of the tireless efforts of an unbelievable cast and crew. First off, to my brother in this endeavor, Mr. Tom Hardy. Tom, your talent on screen can only be surpassed by your friendship off screen … thank you for creating a transcendent cinematic experience. Thank you to everybody at Fox and New Regency … my entire team. I have to thank everyone from the very onset of my career … To my parents; none of this would be possible without you. And to my friends, I love you dearly; you know who you are. And lastly, I just want to say this: Making The Revenant was about man's relationship to the natural world. A world that we collectively felt in 2015 as the hottest year in recorded history. Our production needed to move to the southern tip of this planet just to be able to find snow. Climate change is real, it is happening right now. It is the most urgent threat facing our entire species, and we need to work collectively together and stop procrastinating. We need to support leaders around the world who do not speak for the big polluters, but who speak for all of humanity, for the indigenous people of the world, for the billions and billions of underprivileged people out there who would be most affected by this. For our children’s children, and for those people out there whose voices have been drowned out by the politics of greed. I thank you all for this amazing award tonight. Let us not take this planet for granted. I do not take tonight for granted. Thank you so very much.'''"
   ]
  },
  {
   "cell_type": "code",
   "execution_count": 4,
   "metadata": {},
   "outputs": [],
   "source": [
    "dataset=nltk.sent_tokenize(paragraph)\n"
   ]
  },
  {
   "cell_type": "code",
   "execution_count": 23,
   "metadata": {},
   "outputs": [],
   "source": [
    "for i in range(len(dataset)):\n",
    "    dataset[i]=dataset[i].lower()\n",
    "    dataset[i]=re.sub(r'\\W',' ',dataset[i])\n",
    "    dataset[i]=re.sub(r'\\s+',' ',dataset[i])\n",
    "#print(dataset)"
   ]
  },
  {
   "cell_type": "code",
   "execution_count": 22,
   "metadata": {},
   "outputs": [],
   "source": [
    "wordtocount={}\n",
    "for data in dataset:\n",
    "    words=nltk.word_tokenize(data)\n",
    "    for word in words:\n",
    "        if word not in wordtocount.keys():\n",
    "            wordtocount[word]=1\n",
    "        else:\n",
    "            wordtocount[word]+=1\n",
    "#print(wordtocount)"
   ]
  },
  {
   "cell_type": "code",
   "execution_count": 21,
   "metadata": {},
   "outputs": [],
   "source": [
    " freq_words=heapq.nlargest(100,wordtocount,key=wordtocount.get)\n",
    "#print(freq_words)"
   ]
  },
  {
   "cell_type": "code",
   "execution_count": 20,
   "metadata": {},
   "outputs": [],
   "source": [
    "#IDF Martices\n",
    "word_idfs={}\n",
    "for word in freq_words:\n",
    "    doc_count=0\n",
    "    for data in dataset:\n",
    "        if word in nltk.word_tokenize(data):\n",
    "            doc_count+=1\n",
    "    word_idfs[word]=np.log((len(dataset)/doc_count)+1)\n",
    "#print(word_idfs)"
   ]
  },
  {
   "cell_type": "code",
   "execution_count": 19,
   "metadata": {},
   "outputs": [],
   "source": [
    "#TF Matrices\n",
    "tf_matrix={}\n",
    "for word in freq_words:\n",
    "    doc_tf=[]\n",
    "    for data in dataset:\n",
    "        frequency=0\n",
    "        for w in nltk.word_tokenize(data):\n",
    "            if w==word:\n",
    "                frequency+=1\n",
    "        tf_word=frequency/(len(nltk.word_tokenize(data)))\n",
    "        doc_tf.append(tf_word)\n",
    "    tf_matrix[word]=doc_tf\n",
    "#print(tf_matrix)"
   ]
  },
  {
   "cell_type": "code",
   "execution_count": 26,
   "metadata": {},
   "outputs": [],
   "source": [
    "#tfidf matrix\n",
    "tfidf_matrix=[]\n",
    "for word in tf_matrix.keys():\n",
    "    tfidf=[]\n",
    "    for value in tf_matrix[word]:\n",
    "        score=value*word_idfs[word]\n",
    "        tfidf.append(score)\n",
    "    tfidf_matrix.append(tfidf)\n",
    "#print(tfidf_matrix)"
   ]
  },
  {
   "cell_type": "code",
   "execution_count": 29,
   "metadata": {},
   "outputs": [],
   "source": [
    "x=np.asarray(tfidf_matrix)\n",
    "x=np.transpose(x)\n",
    "#print(x)"
   ]
  },
  {
   "cell_type": "code",
   "execution_count": null,
   "metadata": {},
   "outputs": [],
   "source": []
  }
 ],
 "metadata": {
  "kernelspec": {
   "display_name": "Python 3",
   "language": "python",
   "name": "python3"
  },
  "language_info": {
   "codemirror_mode": {
    "name": "ipython",
    "version": 3
   },
   "file_extension": ".py",
   "mimetype": "text/x-python",
   "name": "python",
   "nbconvert_exporter": "python",
   "pygments_lexer": "ipython3",
   "version": "3.6.5"
  }
 },
 "nbformat": 4,
 "nbformat_minor": 2
}
