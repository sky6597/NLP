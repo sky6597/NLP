{
 "cells": [
  {
   "cell_type": "markdown",
   "metadata": {},
   "source": [
    "# NLTK\n",
    "The NLTK module is a massive tool kit, aimed at helping you with the entire Natural Language Processing (NLP) methodology. NLTK will aid you with everything from splitting sentences from paragraphs, splitting up words, recognizing the part of speech of those words, highlighting the main subjects, and then even with helping your machine to understand what the text is all about. "
   ]
  },
  {
   "cell_type": "markdown",
   "metadata": {},
   "source": [
    "## Tokenization\n",
    "Tokenization is the task of breaking down a sentence into its constituent words/symbols.\n",
    "\n",
    "\n",
    "### Note: \n",
    "Tokenization can be subjective. Tokenization for different applications can be different.\n",
    "For example, English books and news articles have well formed sentences where as texts from social media can have many non-standard elements including smileys, emojis, urls, ellipses etc. Each case may require a different tokenizer."
   ]
  },
  {
   "cell_type": "markdown",
   "metadata": {},
   "source": [
    "### Simple split() tokenizer"
   ]
  },
  {
   "cell_type": "code",
   "execution_count": 4,
   "metadata": {},
   "outputs": [
    {
     "data": {
      "text/plain": [
       "['The', 'man', 'drove', 'a', 'car', 'around', 'the', 'city', '.']"
      ]
     },
     "execution_count": 4,
     "metadata": {},
     "output_type": "execute_result"
    }
   ],
   "source": [
    "sentence = 'The man drove a car around the city .'\n",
    "sentence.split()"
   ]
  },
  {
   "cell_type": "markdown",
   "metadata": {},
   "source": [
    "split() tokenizer runs into problems with punctuations.\n",
    "+ Notice 'city.'"
   ]
  },
  {
   "cell_type": "code",
   "execution_count": 24,
   "metadata": {},
   "outputs": [
    {
     "data": {
      "text/plain": [
       "['The', 'man', 'drove', 'a', 'car', 'around', 'the', 'city.']"
      ]
     },
     "execution_count": 24,
     "metadata": {},
     "output_type": "execute_result"
    }
   ],
   "source": [
    "sentence = 'The man drove a car around the city.'\n",
    "sentence.split()"
   ]
  },
  {
   "cell_type": "markdown",
   "metadata": {},
   "source": [
    "### More sophisticated tokenizer from NLTK"
   ]
  },
  {
   "cell_type": "code",
   "execution_count": 6,
   "metadata": {
    "collapsed": true
   },
   "outputs": [],
   "source": [
    "import nltk\n",
    "from nltk import word_tokenize, sent_tokenize"
   ]
  },
  {
   "cell_type": "code",
   "execution_count": 18,
   "metadata": {},
   "outputs": [
    {
     "name": "stdout",
     "output_type": "stream",
     "text": [
      "['The', 'man', 'drove', 'a', 'car', 'around', 'the', 'city', '.']\n"
     ]
    }
   ],
   "source": [
    "sentence = 'The man drove a car around the city.'\n",
    "print(word_tokenize(sentence))"
   ]
  },
  {
   "cell_type": "code",
   "execution_count": 31,
   "metadata": {},
   "outputs": [
    {
     "name": "stdout",
     "output_type": "stream",
     "text": [
      "['However', ',', 'Lyon', 'then', 'ended', 'talks', 'with', 'the', 'Champions', 'League', 'runners-up', 'and', 'released', 'a', 'statement', 'saying', 'they', 'were', '``', 'overjoyed', 'that', 'they', 'can', 'count', 'on', 'the', 'presence', 'of', 'their', 'captain', ',', 'who', 'will', 'be', 'a', 'significant', 'part', 'of', 'their', '2018-19', 'season', '.', \"''\"]\n"
     ]
    }
   ],
   "source": [
    "sentence = 'However, Lyon then ended talks with the Champions League runners-up and \\\n",
    "            released a statement saying they were \"overjoyed that they can count on the presence of their captain, \\\n",
    "            who will be a significant part of their 2018-19 season.\"'\n",
    "print(word_tokenize(sentence))"
   ]
  },
  {
   "cell_type": "code",
   "execution_count": 20,
   "metadata": {
    "scrolled": true
   },
   "outputs": [
    {
     "name": "stdout",
     "output_type": "stream",
     "text": [
      "['However', ',', 'Lyon', 'then', 'ended', 'talks', 'with', 'the', 'Champions', 'League', 'runners-up', 'and', 'released', 'a', 'statement', 'saying', 'they', 'were', '``', 'overjoyed', 'that', 'they', 'can', 'count', 'on', 'the', 'presence', 'of', 'their', 'captain', ',', 'who', 'will', 'be', 'a', 'significant', 'part', 'of', 'their', '2018-19', 'season', '.', '``', 'But', 'agent', 'Jean-Pierre', 'Bernes', 'said', 'Fekir', ',', 'on', 'World', 'Cup', 'duty', 'with', 'France', ',', 'could', 'still', 'end', 'up', 'at', 'Anfield', '.', '``', 'Why', 'has', \"n't\", 'he', 'signed', '?', 'Because', 'it', 'is', 'not', 'finished', '.', 'The', 'story', 'is', 'not', 'finished', ',', \"''\", 'Bernes', 'said', '.', 'Fekir', 'came', 'on', 'for', 'the', 'final', '20', 'minutes', 'as', 'France', 'beat', 'Australia', 'in', 'their', 'World', 'Cup', 'opener', '.']\n"
     ]
    }
   ],
   "source": [
    "sentence = 'However, Lyon then ended talks with the Champions League runners-up and released a statement saying they were \"overjoyed that they can count on the presence of their captain, who will be a significant part of their 2018-19 season.\"But agent Jean-Pierre Bernes said Fekir, on World Cup duty with France, could still end up at Anfield. \"Why hasn\\'t he signed? Because it is not finished. The story is not finished,\" Bernes said. Fekir came on for the final 20 minutes as France beat Australia in their World Cup opener.'\n",
    "print(word_tokenize(sentence))"
   ]
  },
  {
   "cell_type": "code",
   "execution_count": 23,
   "metadata": {},
   "outputs": [
    {
     "name": "stdout",
     "output_type": "stream",
     "text": [
      "However, Lyon then ended talks with the Champions League runners-up and released a statement saying they were \"overjoyed that they can count on the presence of their captain, who will be a significant part of their 2018-19 season.\n",
      "-----\n",
      "\"But agent Jean-Pierre Bernes said Fekir, on World Cup duty with France, could still end up at Anfield.\n",
      "-----\n",
      "\"Why hasn't he signed?\n",
      "-----\n",
      "Because it is not finished.\n",
      "-----\n",
      "The story is not finished,\" Bernes said.\n",
      "-----\n",
      "Fekir came on for the final 20 minutes as France beat Australia in their World Cup opener.\n",
      "-----\n"
     ]
    }
   ],
   "source": [
    "sentence = 'However, Lyon then ended talks with the Champions League runners-up and released a statement saying they were \"overjoyed that they can count on the presence of their captain, who will be a significant part of their 2018-19 season.\"But agent Jean-Pierre Bernes said Fekir, on World Cup duty with France, could still end up at Anfield. \"Why hasn\\'t he signed? Because it is not finished. The story is not finished,\" Bernes said. Fekir came on for the final 20 minutes as France beat Australia in their World Cup opener.'\n",
    "for sent in sent_tokenize(sentence):\n",
    "    print(sent)\n",
    "    print('-----')"
   ]
  },
  {
   "cell_type": "markdown",
   "metadata": {},
   "source": [
    "### Twitter Tokenizer\n",
    "Text acquired by crawling Twitter is even more complex"
   ]
  },
  {
   "cell_type": "code",
   "execution_count": 26,
   "metadata": {},
   "outputs": [
    {
     "name": "stdout",
     "output_type": "stream",
     "text": [
      "['This', 'is', 'a', 'cooool', '#dummysmiley', ':', ':-)', ':-P', '<3', 'and', 'some', 'arrows', '<', '>', '->', '<--']\n"
     ]
    }
   ],
   "source": [
    "from nltk.tokenize import TweetTokenizer\n",
    "tknzr = TweetTokenizer()\n",
    "tweet = \"This is a cooool #dummysmiley: :-) :-P <3 and some arrows < > -> <--\"\n",
    "print(tknzr.tokenize(tweet))"
   ]
  },
  {
   "cell_type": "code",
   "execution_count": 33,
   "metadata": {},
   "outputs": [
    {
     "name": "stdout",
     "output_type": "stream",
     "text": [
      "[':', 'This', 'is', 'waaaaayyyy', 'too', 'much', 'for', 'you', '!', '!', '!', 'https://twitter.com/']\n"
     ]
    }
   ],
   "source": [
    "tknzr = TweetTokenizer(strip_handles=True)\n",
    "tweet = '@remy: This is waaaaayyyy too much for you!!!!!! https://twitter.com/'\n",
    "print(tknzr.tokenize(tweet))"
   ]
  },
  {
   "cell_type": "markdown",
   "metadata": {},
   "source": [
    "### Tokenize non-English texts"
   ]
  },
  {
   "cell_type": "code",
   "execution_count": 109,
   "metadata": {},
   "outputs": [
    {
     "name": "stdout",
     "output_type": "stream",
     "text": [
      "['Bonjour M. Adam, comment allez-vous?', \"J'espère que tout va bien.\", \"Aujourd'hui est un bon jour.\"]\n",
      "---------------\n",
      "[\"J'espère\", 'que', 'tout', 'va', 'bien', '.']\n"
     ]
    }
   ],
   "source": [
    "from nltk.tokenize import sent_tokenize\n",
    " \n",
    "mytext = \"Bonjour M. Adam, comment allez-vous? J'espère que tout va bien. Aujourd'hui est un bon jour.\"\n",
    "sents = sent_tokenize(mytext,\"french\") \n",
    "print(sents)\n",
    "print('---------------')\n",
    "print(word_tokenize(sents[1], 'french'))"
   ]
  },
  {
   "cell_type": "markdown",
   "metadata": {},
   "source": [
    "## n-grams\n",
    "In the fields of computational linguistics and probability, an n-gram is a contiguous sequence of n items from a given sample of text or speech. The items can be phonemes, syllables, letters, words or base pairs according to the application. The n-grams typically are collected from a text or speech corpus."
   ]
  },
  {
   "cell_type": "code",
   "execution_count": 38,
   "metadata": {},
   "outputs": [],
   "source": [
    "from nltk.util import ngrams, bigrams, trigrams"
   ]
  },
  {
   "cell_type": "code",
   "execution_count": 42,
   "metadata": {},
   "outputs": [
    {
     "name": "stdout",
     "output_type": "stream",
     "text": [
      "('The', 'man')\n",
      "('man', 'drove')\n",
      "('drove', 'a')\n",
      "('a', 'car')\n",
      "('car', 'around')\n",
      "('around', 'the')\n",
      "('the', 'city')\n",
      "('city', '.')\n",
      "-----\n",
      "('The', 'man', 'drove')\n",
      "('man', 'drove', 'a')\n",
      "('drove', 'a', 'car')\n",
      "('a', 'car', 'around')\n",
      "('car', 'around', 'the')\n",
      "('around', 'the', 'city')\n",
      "('the', 'city', '.')\n"
     ]
    }
   ],
   "source": [
    "sentence = 'The man drove a car around the city .'\n",
    "tokens = sentence.split()\n",
    "for bg in bigrams(tokens):\n",
    "    print(bg)\n",
    "print('-----')\n",
    "for tg in trigrams(tokens):\n",
    "    print(tg)"
   ]
  },
  {
   "cell_type": "code",
   "execution_count": 46,
   "metadata": {},
   "outputs": [
    {
     "name": "stdout",
     "output_type": "stream",
     "text": [
      "1-grams\n",
      "-----\n",
      "('The',)\n",
      "('man',)\n",
      "('drove',)\n",
      "('a',)\n",
      "('car',)\n",
      "('around',)\n",
      "('the',)\n",
      "('city',)\n",
      "('.',)\n",
      "-------------\n",
      "2-grams\n",
      "-----\n",
      "('The', 'man')\n",
      "('man', 'drove')\n",
      "('drove', 'a')\n",
      "('a', 'car')\n",
      "('car', 'around')\n",
      "('around', 'the')\n",
      "('the', 'city')\n",
      "('city', '.')\n",
      "-------------\n",
      "3-grams\n",
      "-----\n",
      "('The', 'man', 'drove')\n",
      "('man', 'drove', 'a')\n",
      "('drove', 'a', 'car')\n",
      "('a', 'car', 'around')\n",
      "('car', 'around', 'the')\n",
      "('around', 'the', 'city')\n",
      "('the', 'city', '.')\n",
      "-------------\n",
      "4-grams\n",
      "-----\n",
      "('The', 'man', 'drove', 'a')\n",
      "('man', 'drove', 'a', 'car')\n",
      "('drove', 'a', 'car', 'around')\n",
      "('a', 'car', 'around', 'the')\n",
      "('car', 'around', 'the', 'city')\n",
      "('around', 'the', 'city', '.')\n",
      "-------------\n",
      "5-grams\n",
      "-----\n",
      "('The', 'man', 'drove', 'a', 'car')\n",
      "('man', 'drove', 'a', 'car', 'around')\n",
      "('drove', 'a', 'car', 'around', 'the')\n",
      "('a', 'car', 'around', 'the', 'city')\n",
      "('car', 'around', 'the', 'city', '.')\n",
      "-------------\n"
     ]
    }
   ],
   "source": [
    "for i in range(1, 6):\n",
    "    print('{}-grams'.format(i))\n",
    "    print('-----')\n",
    "    for ng in ngrams(tokens, n=i):\n",
    "        print(ng)\n",
    "    print('-------------')"
   ]
  },
  {
   "cell_type": "code",
   "execution_count": 49,
   "metadata": {},
   "outputs": [
    {
     "name": "stdout",
     "output_type": "stream",
     "text": [
      "('<s>', '<s>', 'The')\n",
      "('<s>', 'The', 'man')\n",
      "('The', 'man', 'drove')\n",
      "('man', 'drove', 'a')\n",
      "('drove', 'a', 'car')\n",
      "('a', 'car', 'around')\n",
      "('car', 'around', 'the')\n",
      "('around', 'the', 'city')\n",
      "('the', 'city', '.')\n",
      "('city', '.', '</s>')\n",
      "('.', '</s>', '</s>')\n"
     ]
    }
   ],
   "source": [
    "for ng in ngrams(tokens, n=3, pad_left=True, pad_right=True, left_pad_symbol='<s>', right_pad_symbol='</s>'):\n",
    "    print(ng)"
   ]
  },
  {
   "cell_type": "code",
   "execution_count": 54,
   "metadata": {},
   "outputs": [
    {
     "name": "stdout",
     "output_type": "stream",
     "text": [
      "('#', '#', 'a')\n",
      "-------------\n",
      "('#', '#', 'i')\n",
      "('#', 'i', 's')\n",
      "-------------\n",
      "('#', '#', 't')\n",
      "('#', 't', 'h')\n",
      "('t', 'h', 'e')\n",
      "-------------\n",
      "('#', '#', 'f')\n",
      "('#', 'f', 'i')\n",
      "('f', 'i', 'r')\n",
      "('i', 'r', 's')\n",
      "('r', 's', 't')\n",
      "-------------\n",
      "('#', '#', 'l')\n",
      "('#', 'l', 'e')\n",
      "('l', 'e', 't')\n",
      "('e', 't', 't')\n",
      "('t', 't', 'e')\n",
      "('t', 'e', 'r')\n",
      "-------------\n",
      "('#', '#', 'o')\n",
      "('#', 'o', 'f')\n",
      "-------------\n",
      "('#', '#', 't')\n",
      "('#', 't', 'h')\n",
      "('t', 'h', 'e')\n",
      "-------------\n",
      "('#', '#', 'a')\n",
      "('#', 'a', 'l')\n",
      "('a', 'l', 'p')\n",
      "('l', 'p', 'h')\n",
      "('p', 'h', 'a')\n",
      "('h', 'a', 'b')\n",
      "('a', 'b', 'e')\n",
      "('b', 'e', 't')\n",
      "-------------\n"
     ]
    }
   ],
   "source": [
    "for word in 'a is the first letter of the alphabet'.split():\n",
    "    for ng in ngrams(word, n=3, pad_left=True, left_pad_symbol='#'):\n",
    "        print(ng)\n",
    "    print('-------------')"
   ]
  },
  {
   "cell_type": "code",
   "execution_count": 70,
   "metadata": {},
   "outputs": [
    {
     "name": "stdout",
     "output_type": "stream",
     "text": [
      "Counter({('world', 'cup'): 2, ('of', 'their'): 2, ('is', 'not'): 2, ('not', 'finished'): 2, ('bernes', 'said'): 2, ('.', '``'): 2, (',', 'lyon'): 1, ('opener', '.'): 1, ('minutes', 'as'): 1, ('finished', '.'): 1, ('finished', ','): 1, ('will', 'be'): 1, ('up', 'at'): 1, ('they', 'can'): 1, ('fekir', 'came'): 1, ('.', 'the'): 1, ('came', 'on'): 1, ('in', 'their'): 1, ('can', 'count'): 1, ('has', \"n't\"): 1, ('captain', ','): 1, ('``', 'why'): 1, ('who', 'will'): 1, ('ended', 'talks'): 1, ('.', 'fekir'): 1, ('then', 'ended'): 1, ('why', 'has'): 1, ('part', 'of'): 1, ('a', 'significant'): 1, ('duty', 'with'): 1, ('and', 'released'): 1, ('a', 'statement'): 1, ('still', 'end'): 1, ('count', 'on'): 1, ('for', 'the'): 1, ('statement', 'saying'): 1, ('beat', 'australia'): 1, ('20', 'minutes'): 1, ('``', 'overjoyed'): 1, ('lyon', 'then'): 1, ('agent', 'jean-pierre'): 1, (\"n't\", 'he'): 1, ('end', 'up'): 1, ('jean-pierre', 'bernes'): 1, ('as', 'france'): 1, ('their', 'world'): 1, ('the', 'champions'): 1, ('league', 'runners-up'): 1, ('runners-up', 'and'): 1, ('2018-19', 'season'): 1, (',', \"''\"): 1, ('overjoyed', 'that'): 1, ('presence', 'of'): 1, ('released', 'a'): 1, ('final', '20'): 1, ('could', 'still'): 1, ('that', 'they'): 1, ('said', '.'): 1, (',', 'could'): 1, ('were', '``'): 1, ('france', ','): 1, ('however', ','): 1, ('he', 'signed'): 1, ('champions', 'league'): 1, ('cup', 'duty'): 1, ('the', 'presence'): 1, ('with', 'the'): 1, ('story', 'is'): 1, ('saying', 'they'): 1, ('with', 'france'): 1, ('they', 'were'): 1, ('because', 'it'): 1, ('be', 'a'): 1, ('anfield', '.'): 1, (',', 'on'): 1, ('france', 'beat'): 1, ('it', 'is'): 1, (',', 'who'): 1, ('the', 'story'): 1, ('significant', 'part'): 1, ('at', 'anfield'): 1, ('but', 'agent'): 1, ('?', 'because'): 1, ('cup', 'opener'): 1, ('on', 'the'): 1, ('the', 'final'): 1, ('signed', '?'): 1, ('on', 'world'): 1, (\"''\", 'bernes'): 1, ('australia', 'in'): 1, ('their', 'captain'): 1, ('season', '.'): 1, ('on', 'for'): 1, ('talks', 'with'): 1, ('their', '2018-19'): 1, ('said', 'fekir'): 1, ('fekir', ','): 1, ('``', 'but'): 1})\n"
     ]
    }
   ],
   "source": [
    "from collections import Counter\n",
    "sentence = 'However, Lyon then ended talks with the Champions League runners-up and released a statement saying they were \"overjoyed that they can count on the presence of their captain, who will be a significant part of their 2018-19 season.\"But agent Jean-Pierre Bernes said Fekir, on World Cup duty with France, could still end up at Anfield. \"Why hasn\\'t he signed? Because it is not finished. The story is not finished,\" Bernes said. Fekir came on for the final 20 minutes as France beat Australia in their World Cup opener.'\n",
    "ctr = Counter(bigrams(word_tokenize(sentence.lower())))\n",
    "print(ctr)"
   ]
  },
  {
   "cell_type": "code",
   "execution_count": 79,
   "metadata": {},
   "outputs": [
    {
     "data": {
      "text/plain": [
       "[(',', 5),\n",
       " ('.', 5),\n",
       " ('the', 4),\n",
       " ('on', 3),\n",
       " ('their', 3),\n",
       " ('``', 3),\n",
       " ('cup', 2),\n",
       " ('said', 2),\n",
       " ('finished', 2),\n",
       " ('is', 2)]"
      ]
     },
     "execution_count": 79,
     "metadata": {},
     "output_type": "execute_result"
    }
   ],
   "source": [
    "from nltk.probability import FreqDist\n",
    "fdist = FreqDist(word_tokenize(sentence.lower()))\n",
    "fdist.most_common(10)"
   ]
  },
  {
   "cell_type": "code",
   "execution_count": 82,
   "metadata": {},
   "outputs": [
    {
     "data": {
      "image/png": "[encoded data removed]",
      "text/plain": [
       "<matplotlib.figure.Figure at 0x7f4dd4d7fc18>"
      ]
     },
     "metadata": {},
     "output_type": "display_data"
    }
   ],
   "source": [
    "fdist.plot(10)"
   ]
  },
  {
   "cell_type": "code",
   "execution_count": 92,
   "metadata": {},
   "outputs": [
    {
     "name": "stdout",
     "output_type": "stream",
     "text": [
      "1\n"
     ]
    },
    {
     "data": {
      "text/plain": [
       "FreqDist({'champions': 1, 'final': 1, 'presence': 1, 'story': 1})"
      ]
     },
     "execution_count": 92,
     "metadata": {},
     "output_type": "execute_result"
    }
   ],
   "source": [
    "from nltk.probability import ConditionalFreqDist\n",
    "cfdist = ConditionalFreqDist(bigrams(word_tokenize(sentence.lower())))\n",
    "print(cfdist['the']['champions'])\n",
    "cfdist['the']"
   ]
  },
  {
   "cell_type": "code",
   "execution_count": 93,
   "metadata": {},
   "outputs": [
    {
     "name": "stdout",
     "output_type": "stream",
     "text": [
      "in [('their', 1)]\n",
      "for [('the', 1)]\n",
      "cup [('duty', 1)]\n",
      "captain [(',', 1)]\n",
      "on [('the', 1)]\n",
      "that [('they', 1)]\n",
      "jean-pierre [('bernes', 1)]\n",
      "australia [('in', 1)]\n",
      "saying [('they', 1)]\n",
      "can [('count', 1)]\n",
      "still [('end', 1)]\n",
      "said [('fekir', 1)]\n",
      "duty [('with', 1)]\n",
      "20 [('minutes', 1)]\n",
      "? [('because', 1)]\n",
      "'' [('bernes', 1)]\n",
      "part [('of', 1)]\n",
      "finished [('.', 1)]\n",
      "season [('.', 1)]\n",
      "and [('released', 1)]\n",
      "is [('not', 2)]\n",
      "their [('world', 1)]\n",
      "presence [('of', 1)]\n",
      "came [('on', 1)]\n",
      "he [('signed', 1)]\n",
      "overjoyed [('that', 1)]\n",
      "world [('cup', 2)]\n",
      "be [('a', 1)]\n",
      "minutes [('as', 1)]\n",
      "2018-19 [('season', 1)]\n",
      "opener [('.', 1)]\n",
      "bernes [('said', 2)]\n",
      "has [(\"n't\", 1)]\n",
      "at [('anfield', 1)]\n",
      "but [('agent', 1)]\n",
      "with [('the', 1)]\n",
      "significant [('part', 1)]\n",
      "of [('their', 2)]\n",
      "could [('still', 1)]\n",
      "anfield [('.', 1)]\n",
      "why [('has', 1)]\n",
      "as [('france', 1)]\n",
      "champions [('league', 1)]\n",
      "runners-up [('and', 1)]\n",
      "who [('will', 1)]\n",
      "agent [('jean-pierre', 1)]\n",
      "beat [('australia', 1)]\n",
      "ended [('talks', 1)]\n",
      "statement [('saying', 1)]\n",
      "fekir [(',', 1)]\n",
      "the [('story', 1)]\n",
      "final [('20', 1)]\n",
      ", [(\"''\", 1)]\n",
      "`` [('overjoyed', 1)]\n",
      "they [('were', 1)]\n",
      "will [('be', 1)]\n",
      "then [('ended', 1)]\n",
      "a [('significant', 1)]\n",
      "it [('is', 1)]\n",
      "released [('a', 1)]\n",
      "league [('runners-up', 1)]\n",
      "n't [('he', 1)]\n",
      "up [('at', 1)]\n",
      "however [(',', 1)]\n",
      "were [('``', 1)]\n",
      ". [('``', 2)]\n",
      "talks [('with', 1)]\n",
      "because [('it', 1)]\n",
      "not [('finished', 2)]\n",
      "end [('up', 1)]\n",
      "story [('is', 1)]\n",
      "lyon [('then', 1)]\n",
      "count [('on', 1)]\n",
      "signed [('?', 1)]\n",
      "france [('beat', 1)]\n"
     ]
    }
   ],
   "source": [
    "for k in cfdist.keys():\n",
    "    print(k, cfdist[k].most_common(1))"
   ]
  },
  {
   "cell_type": "code",
   "execution_count": 75,
   "metadata": {},
   "outputs": [
    {
     "data": {
      "text/plain": [
       "['i',\n",
       " 'me',\n",
       " 'my',\n",
       " 'myself',\n",
       " 'we',\n",
       " 'our',\n",
       " 'ours',\n",
       " 'ourselves',\n",
       " 'you',\n",
       " \"you're\",\n",
       " \"you've\",\n",
       " \"you'll\",\n",
       " \"you'd\",\n",
       " 'your',\n",
       " 'yours',\n",
       " 'yourself',\n",
       " 'yourselves',\n",
       " 'he',\n",
       " 'him',\n",
       " 'his',\n",
       " 'himself',\n",
       " 'she',\n",
       " \"she's\",\n",
       " 'her',\n",
       " 'hers',\n",
       " 'herself',\n",
       " 'it',\n",
       " \"it's\",\n",
       " 'its',\n",
       " 'itself',\n",
       " 'they',\n",
       " 'them',\n",
       " 'their',\n",
       " 'theirs',\n",
       " 'themselves',\n",
       " 'what',\n",
       " 'which',\n",
       " 'who',\n",
       " 'whom',\n",
       " 'this',\n",
       " 'that',\n",
       " \"that'll\",\n",
       " 'these',\n",
       " 'those',\n",
       " 'am',\n",
       " 'is',\n",
       " 'are',\n",
       " 'was',\n",
       " 'were',\n",
       " 'be',\n",
       " 'been',\n",
       " 'being',\n",
       " 'have',\n",
       " 'has',\n",
       " 'had',\n",
       " 'having',\n",
       " 'do',\n",
       " 'does',\n",
       " 'did',\n",
       " 'doing',\n",
       " 'a',\n",
       " 'an',\n",
       " 'the',\n",
       " 'and',\n",
       " 'but',\n",
       " 'if',\n",
       " 'or',\n",
       " 'because',\n",
       " 'as',\n",
       " 'until',\n",
       " 'while',\n",
       " 'of',\n",
       " 'at',\n",
       " 'by',\n",
       " 'for',\n",
       " 'with',\n",
       " 'about',\n",
       " 'against',\n",
       " 'between',\n",
       " 'into',\n",
       " 'through',\n",
       " 'during',\n",
       " 'before',\n",
       " 'after',\n",
       " 'above',\n",
       " 'below',\n",
       " 'to',\n",
       " 'from',\n",
       " 'up',\n",
       " 'down',\n",
       " 'in',\n",
       " 'out',\n",
       " 'on',\n",
       " 'off',\n",
       " 'over',\n",
       " 'under',\n",
       " 'again',\n",
       " 'further',\n",
       " 'then',\n",
       " 'once',\n",
       " 'here',\n",
       " 'there',\n",
       " 'when',\n",
       " 'where',\n",
       " 'why',\n",
       " 'how',\n",
       " 'all',\n",
       " 'any',\n",
       " 'both',\n",
       " 'each',\n",
       " 'few',\n",
       " 'more',\n",
       " 'most',\n",
       " 'other',\n",
       " 'some',\n",
       " 'such',\n",
       " 'no',\n",
       " 'nor',\n",
       " 'not',\n",
       " 'only',\n",
       " 'own',\n",
       " 'same',\n",
       " 'so',\n",
       " 'than',\n",
       " 'too',\n",
       " 'very',\n",
       " 's',\n",
       " 't',\n",
       " 'can',\n",
       " 'will',\n",
       " 'just',\n",
       " 'don',\n",
       " \"don't\",\n",
       " 'should',\n",
       " \"should've\",\n",
       " 'now',\n",
       " 'd',\n",
       " 'll',\n",
       " 'm',\n",
       " 'o',\n",
       " 're',\n",
       " 've',\n",
       " 'y',\n",
       " 'ain',\n",
       " 'aren',\n",
       " \"aren't\",\n",
       " 'couldn',\n",
       " \"couldn't\",\n",
       " 'didn',\n",
       " \"didn't\",\n",
       " 'doesn',\n",
       " \"doesn't\",\n",
       " 'hadn',\n",
       " \"hadn't\",\n",
       " 'hasn',\n",
       " \"hasn't\",\n",
       " 'haven',\n",
       " \"haven't\",\n",
       " 'isn',\n",
       " \"isn't\",\n",
       " 'ma',\n",
       " 'mightn',\n",
       " \"mightn't\",\n",
       " 'mustn',\n",
       " \"mustn't\",\n",
       " 'needn',\n",
       " \"needn't\",\n",
       " 'shan',\n",
       " \"shan't\",\n",
       " 'shouldn',\n",
       " \"shouldn't\",\n",
       " 'wasn',\n",
       " \"wasn't\",\n",
       " 'weren',\n",
       " \"weren't\",\n",
       " 'won',\n",
       " \"won't\",\n",
       " 'wouldn',\n",
       " \"wouldn't\"]"
      ]
     },
     "execution_count": 75,
     "metadata": {},
     "output_type": "execute_result"
    }
   ],
   "source": [
    "from nltk.corpus import stopwords\n",
    "stopwords.words('english')"
   ]
  },
  {
   "cell_type": "code",
   "execution_count": 100,
   "metadata": {},
   "outputs": [
    {
     "name": "stdout",
     "output_type": "stream",
     "text": [
      "('However', 'RB')\n",
      "(',', ',')\n",
      "('Lyon', 'NNP')\n",
      "('then', 'RB')\n",
      "('ended', 'VBD')\n",
      "('talks', 'NNS')\n",
      "('with', 'IN')\n",
      "('the', 'DT')\n",
      "('Champions', 'NNP')\n",
      "('League', 'NNP')\n",
      "('runners-up', 'NN')\n",
      "('and', 'CC')\n",
      "('released', 'VBD')\n",
      "('a', 'DT')\n",
      "('statement', 'NN')\n",
      "('saying', 'VBG')\n",
      "('they', 'PRP')\n",
      "('were', 'VBD')\n",
      "('``', '``')\n",
      "('overjoyed', 'VBN')\n",
      "('that', 'IN')\n",
      "('they', 'PRP')\n",
      "('can', 'MD')\n",
      "('count', 'VB')\n",
      "('on', 'IN')\n",
      "('the', 'DT')\n",
      "('presence', 'NN')\n",
      "('of', 'IN')\n",
      "('their', 'PRP$')\n",
      "('captain', 'NN')\n",
      "(',', ',')\n",
      "('who', 'WP')\n",
      "('will', 'MD')\n",
      "('be', 'VB')\n",
      "('a', 'DT')\n",
      "('significant', 'JJ')\n",
      "('part', 'NN')\n",
      "('of', 'IN')\n",
      "('their', 'PRP$')\n",
      "('2018-19', 'JJ')\n",
      "('season', 'NN')\n",
      "('.', '.')\n",
      "(\"''\", \"''\")\n"
     ]
    }
   ],
   "source": [
    "from nltk import pos_tag\n",
    "sentence = 'However, Lyon then ended talks with the Champions League runners-up and \\\n",
    "            released a statement saying they were \"overjoyed that they can count on the presence of their captain, \\\n",
    "            who will be a significant part of their 2018-19 season.\"'\n",
    "for tup in pos_tag(word_tokenize(sentence)):\n",
    "    print(tup)"
   ]
  },
  {
   "cell_type": "markdown",
   "metadata": {},
   "source": [
    "### NLTK Word Stemming\n",
    "Word stemming means removing affixes from words and return the root word. \n",
    "\n",
    "Ex: The stem of the word working => work.\n",
    "\n",
    "Search engines use this technique when indexing pages, so many people write different versions for the same word and all of them are stemmed to the root word."
   ]
  },
  {
   "cell_type": "code",
   "execution_count": 138,
   "metadata": {},
   "outputs": [
    {
     "name": "stdout",
     "output_type": "stream",
     "text": [
      "cat\n",
      "cacti\n",
      "gees\n",
      "work\n",
      "rock\n",
      "runner\n",
      "run\n",
      "increas\n",
      "increas\n",
      "increment\n"
     ]
    }
   ],
   "source": [
    "from nltk.stem import PorterStemmer\n",
    "stemmer = PorterStemmer()\n",
    "word_list = ['cats', 'cacti', 'geese', 'working', 'rocks', 'runners', 'running', 'increase', 'increasing', 'incremental']\n",
    "for word in word_list:\n",
    "    print(stemmer.stem(word))"
   ]
  },
  {
   "cell_type": "markdown",
   "metadata": {},
   "source": [
    "### Lemmatizing Words Using WordNet\n",
    "Word lemmatizing is similar to stemming, but the difference is the result of lemmatizing is a real word."
   ]
  },
  {
   "cell_type": "code",
   "execution_count": 139,
   "metadata": {},
   "outputs": [
    {
     "name": "stdout",
     "output_type": "stream",
     "text": [
      "cat\n",
      "cactus\n",
      "goose\n",
      "working\n",
      "rock\n",
      "runner\n",
      "running\n",
      "increase\n",
      "increasing\n",
      "incremental\n",
      "good\n",
      "better\n",
      "better\n"
     ]
    }
   ],
   "source": [
    "from nltk.stem import WordNetLemmatizer\n",
    "lemmatizer = WordNetLemmatizer()\n",
    "for word in word_list:\n",
    "    print(lemmatizer.lemmatize(word))\n",
    "print(lemmatizer.lemmatize(\"better\", pos='a'))\n",
    "print(lemmatizer.lemmatize(\"better\", pos='v'))\n",
    "print(lemmatizer.lemmatize(\"better\"))"
   ]
  },
  {
   "cell_type": "markdown",
   "metadata": {},
   "source": [
    "### Corpora"
   ]
  },
  {
   "cell_type": "code",
   "execution_count": 140,
   "metadata": {},
   "outputs": [
    {
     "name": "stdout",
     "output_type": "stream",
     "text": [
      "showing info https://raw.githubusercontent.com/nltk/nltk_data/gh-pages/index.xml\n"
     ]
    },
    {
     "data": {
      "text/plain": [
       "True"
      ]
     },
     "execution_count": 140,
     "metadata": {},
     "output_type": "execute_result"
    }
   ],
   "source": [
    "nltk.download()"
   ]
  },
  {
   "cell_type": "markdown",
   "metadata": {},
   "source": [
    "#### Synonyms, Definitions, Usage and Antonyms"
   ]
  },
  {
   "cell_type": "code",
   "execution_count": 114,
   "metadata": {},
   "outputs": [
    {
     "name": "stdout",
     "output_type": "stream",
     "text": [
      "a symptom of some physical hurt or disorder\n",
      "['the patient developed severe pain and distension']\n"
     ]
    }
   ],
   "source": [
    "from nltk.corpus import wordnet\n",
    "syn = wordnet.synsets(\"pain\")\n",
    "print(syn[0].definition())\n",
    "print(syn[0].examples())"
   ]
  },
  {
   "cell_type": "code",
   "execution_count": 115,
   "metadata": {},
   "outputs": [
    {
     "name": "stdout",
     "output_type": "stream",
     "text": [
      "['computer', 'computing_machine', 'computing_device', 'data_processor', 'electronic_computer', 'information_processing_system', 'calculator', 'reckoner', 'figurer', 'estimator', 'computer']\n"
     ]
    }
   ],
   "source": [
    "synonyms = []\n",
    "for syn in wordnet.synsets('Computer'):\n",
    "    for lemma in syn.lemmas():\n",
    "        synonyms.append(lemma.name())\n",
    "print(synonyms)"
   ]
  },
  {
   "cell_type": "code",
   "execution_count": 122,
   "metadata": {},
   "outputs": [
    {
     "name": "stdout",
     "output_type": "stream",
     "text": [
      "['large', 'big', 'big']\n"
     ]
    }
   ],
   "source": [
    "from nltk.corpus import wordnet\n",
    "antonyms = []\n",
    "for syn in wordnet.synsets(\"small\"):\n",
    "    for l in syn.lemmas():\n",
    "        if l.antonyms():\n",
    "            antonyms.append(l.antonyms()[0].name())\n",
    "print(antonyms)"
   ]
  },
  {
   "cell_type": "markdown",
   "metadata": {},
   "source": [
    "#### Brown and Indian Corpora\n",
    "Include words and sentences, tagged as well as raw."
   ]
  },
  {
   "cell_type": "code",
   "execution_count": 144,
   "metadata": {},
   "outputs": [
    {
     "name": "stdout",
     "output_type": "stream",
     "text": [
      "[['The', 'Fulton', 'County', 'Grand', 'Jury', 'said', 'Friday', 'an', 'investigation', 'of', \"Atlanta's\", 'recent', 'primary', 'election', 'produced', '``', 'no', 'evidence', \"''\", 'that', 'any', 'irregularities', 'took', 'place', '.'], ['The', 'jury', 'further', 'said', 'in', 'term-end', 'presentments', 'that', 'the', 'City', 'Executive', 'Committee', ',', 'which', 'had', 'over-all', 'charge', 'of', 'the', 'election', ',', '``', 'deserves', 'the', 'praise', 'and', 'thanks', 'of', 'the', 'City', 'of', 'Atlanta', \"''\", 'for', 'the', 'manner', 'in', 'which', 'the', 'election', 'was', 'conducted', '.'], ...]\n",
      "-----------------\n",
      "['The', 'Fulton', 'County', 'Grand', 'Jury', 'said', ...]\n",
      "-----------------\n",
      "[('The', 'AT'), ('Fulton', 'NP-TL'), ...]\n",
      "-----------------\n",
      "[('The', 'DET'), ('Fulton', 'NOUN'), ...]\n"
     ]
    }
   ],
   "source": [
    "from nltk.corpus import brown\n",
    "print(brown.sents())\n",
    "print('-----------------')\n",
    "print(brown.words())\n",
    "print('-----------------')\n",
    "print(brown.tagged_words())\n",
    "print('-----------------')\n",
    "print(brown.tagged_words(tagset='universal'))"
   ]
  },
  {
   "cell_type": "code",
   "execution_count": 155,
   "metadata": {},
   "outputs": [
    {
     "name": "stdout",
     "output_type": "stream",
     "text": [
      "['bangla.pos', 'hindi.pos', 'marathi.pos', 'telugu.pos']\n",
      "['पूर्ण', 'प्रतिबंध', 'हटाओ', ':', 'इराक', 'संयुक्त', ...]\n",
      "['జనం', 'ఎవరి', 'దారిన', 'వారు', 'వెళ్లిపోతున్నారు', '.']\n",
      "[(\"''\", 'SYM'), ('सनातनवाद्यांनी', 'NN'), ('व', 'CC'), ('प्रतिगाम्यांनी', 'NN'), ('समाज', 'NN'), ('रसातळाला', 'NN'), ('नेला', 'VM'), ('असताना', 'VAUX'), ('या', 'DEM'), ('अंधारात', 'NN'), ('बाळशास्त्री', 'NNPC'), ('जांभेकर', 'NNP'), ('यांनी', 'PRP'), (\"'दर्पण'च्या\", 'NNP'), ('माध्यमातून', 'NN'), ('पहिली', 'QO'), ('ज्ञानज्योत', 'NN'), ('तेववली', 'VM'), (',', 'SYM'), (\"''\", 'SYM'), ('असे', 'DEM'), ('प्रतिपादन', 'NN'), ('नटसम्राट', 'NNPC'), ('प्रभाकर', 'NNPC'), ('पणशीकर', 'NNP'), ('यांनी', 'PRP'), ('केले', 'VM'), ('.', 'SYM')]\n",
      "896\n"
     ]
    }
   ],
   "source": [
    "from nltk.corpus import indian\n",
    "print( indian.fileids())\n",
    "print(indian.words('hindi.pos'))\n",
    "print(indian.sents('telugu.pos')[-1])\n",
    "print(indian.tagged_sents('marathi.pos')[0])\n",
    "print(len(indian.sents('bangla.pos')))"
   ]
  },
  {
   "cell_type": "markdown",
   "metadata": {},
   "source": [
    "### For more info check out: \n",
    "http://www.nltk.org/book/"
   ]
  },
  {
   "cell_type": "markdown",
   "metadata": {},
   "source": [
    "## Spacy\n",
    "Another fast toolkit for NLP. Often better performance than NLTK but perhaps not as diverse.\n",
    "\n",
    "https://spacy.io/"
   ]
  },
  {
   "cell_type": "markdown",
   "metadata": {},
   "source": [
    "### Getting started\n",
    "(Do this later during lab sessions)\n",
    "\n",
    "https://spacy.io/usage/#installation"
   ]
  },
  {
   "cell_type": "markdown",
   "metadata": {},
   "source": [
    "### Dependency Parsing"
   ]
  },
  {
   "cell_type": "code",
   "execution_count": 157,
   "metadata": {},
   "outputs": [
    {
     "data": {
      "text/html": [
       "<svg xmlns=\"http://www.w3.org/2000/svg\" xmlns:xlink=\"http://www.w3.org/1999/xlink\" id=\"0\" class=\"displacy\" width=\"1450\" height=\"417.0\" style=\"max-width: none; height: 417.0px; color: #000000; background: #ffffff; font-family: Arial\">\n",
       "<text class=\"displacy-token\" fill=\"currentColor\" text-anchor=\"middle\" y=\"327.0\">\n",
       "    <tspan class=\"displacy-word\" fill=\"currentColor\" x=\"50\">The</tspan>\n",
       "    <tspan class=\"displacy-tag\" dy=\"2em\" fill=\"currentColor\" x=\"50\">DET</tspan>\n",
       "</text>\n",
       "\n",
       "<text class=\"displacy-token\" fill=\"currentColor\" text-anchor=\"middle\" y=\"327.0\">\n",
       "    <tspan class=\"displacy-word\" fill=\"currentColor\" x=\"190\">new</tspan>\n",
       "    <tspan class=\"displacy-tag\" dy=\"2em\" fill=\"currentColor\" x=\"190\">ADJ</tspan>\n",
       "</text>\n",
       "\n",
       "<text class=\"displacy-token\" fill=\"currentColor\" text-anchor=\"middle\" y=\"327.0\">\n",
       "    <tspan class=\"displacy-word\" fill=\"currentColor\" x=\"330\">Iphone</tspan>\n",
       "    <tspan class=\"displacy-tag\" dy=\"2em\" fill=\"currentColor\" x=\"330\">PROPN</tspan>\n",
       "</text>\n",
       "\n",
       "<text class=\"displacy-token\" fill=\"currentColor\" text-anchor=\"middle\" y=\"327.0\">\n",
       "    <tspan class=\"displacy-word\" fill=\"currentColor\" x=\"470\">is</tspan>\n",
       "    <tspan class=\"displacy-tag\" dy=\"2em\" fill=\"currentColor\" x=\"470\">VERB</tspan>\n",
       "</text>\n",
       "\n",
       "<text class=\"displacy-token\" fill=\"currentColor\" text-anchor=\"middle\" y=\"327.0\">\n",
       "    <tspan class=\"displacy-word\" fill=\"currentColor\" x=\"610\">cheaper</tspan>\n",
       "    <tspan class=\"displacy-tag\" dy=\"2em\" fill=\"currentColor\" x=\"610\">ADJ</tspan>\n",
       "</text>\n",
       "\n",
       "<text class=\"displacy-token\" fill=\"currentColor\" text-anchor=\"middle\" y=\"327.0\">\n",
       "    <tspan class=\"displacy-word\" fill=\"currentColor\" x=\"750\">than</tspan>\n",
       "    <tspan class=\"displacy-tag\" dy=\"2em\" fill=\"currentColor\" x=\"750\">ADP</tspan>\n",
       "</text>\n",
       "\n",
       "<text class=\"displacy-token\" fill=\"currentColor\" text-anchor=\"middle\" y=\"327.0\">\n",
       "    <tspan class=\"displacy-word\" fill=\"currentColor\" x=\"890\">the</tspan>\n",
       "    <tspan class=\"displacy-tag\" dy=\"2em\" fill=\"currentColor\" x=\"890\">DET</tspan>\n",
       "</text>\n",
       "\n",
       "<text class=\"displacy-token\" fill=\"currentColor\" text-anchor=\"middle\" y=\"327.0\">\n",
       "    <tspan class=\"displacy-word\" fill=\"currentColor\" x=\"1030\">older,</tspan>\n",
       "    <tspan class=\"displacy-tag\" dy=\"2em\" fill=\"currentColor\" x=\"1030\">ADJ</tspan>\n",
       "</text>\n",
       "\n",
       "<text class=\"displacy-token\" fill=\"currentColor\" text-anchor=\"middle\" y=\"327.0\">\n",
       "    <tspan class=\"displacy-word\" fill=\"currentColor\" x=\"1170\">degraded</tspan>\n",
       "    <tspan class=\"displacy-tag\" dy=\"2em\" fill=\"currentColor\" x=\"1170\">VERB</tspan>\n",
       "</text>\n",
       "\n",
       "<text class=\"displacy-token\" fill=\"currentColor\" text-anchor=\"middle\" y=\"327.0\">\n",
       "    <tspan class=\"displacy-word\" fill=\"currentColor\" x=\"1310\">Samsung.</tspan>\n",
       "    <tspan class=\"displacy-tag\" dy=\"2em\" fill=\"currentColor\" x=\"1310\">PROPN</tspan>\n",
       "</text>\n",
       "\n",
       "<g class=\"displacy-arrow\">\n",
       "    <path class=\"displacy-arc\" id=\"arrow-0-0\" stroke-width=\"2px\" d=\"M70,282.0 C70,142.0 320.0,142.0 320.0,282.0\" fill=\"none\" stroke=\"currentColor\"/>\n",
       "    <text dy=\"1.25em\" style=\"font-size: 0.8em; letter-spacing: 1px\">\n",
       "        <textPath xlink:href=\"#arrow-0-0\" class=\"displacy-label\" startOffset=\"50%\" fill=\"currentColor\" text-anchor=\"middle\">det</textPath>\n",
       "    </text>\n",
       "    <path class=\"displacy-arrowhead\" d=\"M70,284.0 L62,272.0 78,272.0\" fill=\"currentColor\"/>\n",
       "</g>\n",
       "\n",
       "<g class=\"displacy-arrow\">\n",
       "    <path class=\"displacy-arc\" id=\"arrow-0-1\" stroke-width=\"2px\" d=\"M210,282.0 C210,212.0 315.0,212.0 315.0,282.0\" fill=\"none\" stroke=\"currentColor\"/>\n",
       "    <text dy=\"1.25em\" style=\"font-size: 0.8em; letter-spacing: 1px\">\n",
       "        <textPath xlink:href=\"#arrow-0-1\" class=\"displacy-label\" startOffset=\"50%\" fill=\"currentColor\" text-anchor=\"middle\">amod</textPath>\n",
       "    </text>\n",
       "    <path class=\"displacy-arrowhead\" d=\"M210,284.0 L202,272.0 218,272.0\" fill=\"currentColor\"/>\n",
       "</g>\n",
       "\n",
       "<g class=\"displacy-arrow\">\n",
       "    <path class=\"displacy-arc\" id=\"arrow-0-2\" stroke-width=\"2px\" d=\"M350,282.0 C350,212.0 455.0,212.0 455.0,282.0\" fill=\"none\" stroke=\"currentColor\"/>\n",
       "    <text dy=\"1.25em\" style=\"font-size: 0.8em; letter-spacing: 1px\">\n",
       "        <textPath xlink:href=\"#arrow-0-2\" class=\"displacy-label\" startOffset=\"50%\" fill=\"currentColor\" text-anchor=\"middle\">nsubj</textPath>\n",
       "    </text>\n",
       "    <path class=\"displacy-arrowhead\" d=\"M350,284.0 L342,272.0 358,272.0\" fill=\"currentColor\"/>\n",
       "</g>\n",
       "\n",
       "<g class=\"displacy-arrow\">\n",
       "    <path class=\"displacy-arc\" id=\"arrow-0-3\" stroke-width=\"2px\" d=\"M490,282.0 C490,212.0 595.0,212.0 595.0,282.0\" fill=\"none\" stroke=\"currentColor\"/>\n",
       "    <text dy=\"1.25em\" style=\"font-size: 0.8em; letter-spacing: 1px\">\n",
       "        <textPath xlink:href=\"#arrow-0-3\" class=\"displacy-label\" startOffset=\"50%\" fill=\"currentColor\" text-anchor=\"middle\">acomp</textPath>\n",
       "    </text>\n",
       "    <path class=\"displacy-arrowhead\" d=\"M595.0,284.0 L603.0,272.0 587.0,272.0\" fill=\"currentColor\"/>\n",
       "</g>\n",
       "\n",
       "<g class=\"displacy-arrow\">\n",
       "    <path class=\"displacy-arc\" id=\"arrow-0-4\" stroke-width=\"2px\" d=\"M630,282.0 C630,212.0 735.0,212.0 735.0,282.0\" fill=\"none\" stroke=\"currentColor\"/>\n",
       "    <text dy=\"1.25em\" style=\"font-size: 0.8em; letter-spacing: 1px\">\n",
       "        <textPath xlink:href=\"#arrow-0-4\" class=\"displacy-label\" startOffset=\"50%\" fill=\"currentColor\" text-anchor=\"middle\">prep</textPath>\n",
       "    </text>\n",
       "    <path class=\"displacy-arrowhead\" d=\"M735.0,284.0 L743.0,272.0 727.0,272.0\" fill=\"currentColor\"/>\n",
       "</g>\n",
       "\n",
       "<g class=\"displacy-arrow\">\n",
       "    <path class=\"displacy-arc\" id=\"arrow-0-5\" stroke-width=\"2px\" d=\"M910,282.0 C910,72.0 1305.0,72.0 1305.0,282.0\" fill=\"none\" stroke=\"currentColor\"/>\n",
       "    <text dy=\"1.25em\" style=\"font-size: 0.8em; letter-spacing: 1px\">\n",
       "        <textPath xlink:href=\"#arrow-0-5\" class=\"displacy-label\" startOffset=\"50%\" fill=\"currentColor\" text-anchor=\"middle\">det</textPath>\n",
       "    </text>\n",
       "    <path class=\"displacy-arrowhead\" d=\"M910,284.0 L902,272.0 918,272.0\" fill=\"currentColor\"/>\n",
       "</g>\n",
       "\n",
       "<g class=\"displacy-arrow\">\n",
       "    <path class=\"displacy-arc\" id=\"arrow-0-6\" stroke-width=\"2px\" d=\"M1050,282.0 C1050,142.0 1300.0,142.0 1300.0,282.0\" fill=\"none\" stroke=\"currentColor\"/>\n",
       "    <text dy=\"1.25em\" style=\"font-size: 0.8em; letter-spacing: 1px\">\n",
       "        <textPath xlink:href=\"#arrow-0-6\" class=\"displacy-label\" startOffset=\"50%\" fill=\"currentColor\" text-anchor=\"middle\">amod</textPath>\n",
       "    </text>\n",
       "    <path class=\"displacy-arrowhead\" d=\"M1050,284.0 L1042,272.0 1058,272.0\" fill=\"currentColor\"/>\n",
       "</g>\n",
       "\n",
       "<g class=\"displacy-arrow\">\n",
       "    <path class=\"displacy-arc\" id=\"arrow-0-7\" stroke-width=\"2px\" d=\"M1190,282.0 C1190,212.0 1295.0,212.0 1295.0,282.0\" fill=\"none\" stroke=\"currentColor\"/>\n",
       "    <text dy=\"1.25em\" style=\"font-size: 0.8em; letter-spacing: 1px\">\n",
       "        <textPath xlink:href=\"#arrow-0-7\" class=\"displacy-label\" startOffset=\"50%\" fill=\"currentColor\" text-anchor=\"middle\">amod</textPath>\n",
       "    </text>\n",
       "    <path class=\"displacy-arrowhead\" d=\"M1190,284.0 L1182,272.0 1198,272.0\" fill=\"currentColor\"/>\n",
       "</g>\n",
       "\n",
       "<g class=\"displacy-arrow\">\n",
       "    <path class=\"displacy-arc\" id=\"arrow-0-8\" stroke-width=\"2px\" d=\"M770,282.0 C770,2.0 1310.0,2.0 1310.0,282.0\" fill=\"none\" stroke=\"currentColor\"/>\n",
       "    <text dy=\"1.25em\" style=\"font-size: 0.8em; letter-spacing: 1px\">\n",
       "        <textPath xlink:href=\"#arrow-0-8\" class=\"displacy-label\" startOffset=\"50%\" fill=\"currentColor\" text-anchor=\"middle\">pobj</textPath>\n",
       "    </text>\n",
       "    <path class=\"displacy-arrowhead\" d=\"M1310.0,284.0 L1318.0,272.0 1302.0,272.0\" fill=\"currentColor\"/>\n",
       "</g>\n",
       "</svg>"
      ],
      "text/plain": [
       "<IPython.core.display.HTML object>"
      ]
     },
     "metadata": {},
     "output_type": "display_data"
    }
   ],
   "source": [
    "import spacy\n",
    "nlp = spacy.load('en')\n",
    "sentence = 'The new Iphone is cheaper than the older, degraded Samsung.'\n",
    "doc = nlp(sentence)\n",
    "opts = {'distance': 140}\n",
    "spacy.displacy.render(doc, jupyter=True, style='dep', options=opts)"
   ]
  },
  {
   "cell_type": "code",
   "execution_count": 164,
   "metadata": {},
   "outputs": [
    {
     "name": "stdout",
     "output_type": "stream",
     "text": [
      "Harry compound []\n",
      "Kane nsubj [Harry]\n",
      "scored ROOT [Kane, goals, on, .]\n",
      "the det []\n",
      "two nummod []\n",
      "goals dobj [the, two, against, in]\n",
      "against prep [Tunasia]\n",
      "Tunasia pobj []\n",
      "in prep [Cup]\n",
      "FIFA compound []\n",
      "World compound []\n",
      "Cup pobj [FIFA, World, 2018]\n",
      "2018 nummod []\n",
      "on prep [June]\n",
      "18th amod []\n",
      "June pobj [18th]\n",
      ". punct []\n"
     ]
    }
   ],
   "source": [
    "for word in doc:\n",
    "    print(word, word.dep_, list(word.children))"
   ]
  },
  {
   "cell_type": "markdown",
   "metadata": {},
   "source": [
    "### Part of Speech Tagging"
   ]
  },
  {
   "cell_type": "code",
   "execution_count": 158,
   "metadata": {},
   "outputs": [
    {
     "name": "stdout",
     "output_type": "stream",
     "text": [
      "The DT DET\n",
      "new JJ ADJ\n",
      "Iphone NNP PROPN\n",
      "is VBZ VERB\n",
      "cheaper JJR ADJ\n",
      "than IN ADP\n",
      "the DT DET\n",
      "older JJR ADJ\n",
      ", , PUNCT\n",
      "degraded VBN VERB\n",
      "Samsung NNP PROPN\n",
      ". . PUNCT\n"
     ]
    }
   ],
   "source": [
    "for word in doc:\n",
    "    print(word, word.tag_, word.pos_)"
   ]
  },
  {
   "cell_type": "markdown",
   "metadata": {},
   "source": [
    "### Named Entity Recognition (NER tagging)"
   ]
  },
  {
   "cell_type": "code",
   "execution_count": 163,
   "metadata": {},
   "outputs": [
    {
     "name": "stdout",
     "output_type": "stream",
     "text": [
      "Harry Kane PERSON\n",
      "two CARDINAL\n",
      "Tunasia GPE\n",
      "FIFA World Cup EVENT\n",
      "2018 DATE\n",
      "18th June DATE\n"
     ]
    }
   ],
   "source": [
    "doc = nlp('Harry Kane scored the two goals against Tunasia in FIFA World Cup 2018 on 18th June.')\n",
    "for ent in doc.ents:\n",
    "    print(ent, ent.label_)"
   ]
  },
  {
   "cell_type": "markdown",
   "metadata": {},
   "source": [
    "## Remember, Google is your best buddy :)"
   ]
  }
 ],
 "metadata": {
  "kernelspec": {
   "display_name": "Python 3",
   "language": "python",
   "name": "python3"
  },
  "language_info": {
   "codemirror_mode": {
    "name": "ipython",
    "version": 3
   },
   "file_extension": ".py",
   "mimetype": "text/x-python",
   "name": "python",
   "nbconvert_exporter": "python",
   "pygments_lexer": "ipython3",
   "version": "3.6.5"
  }
 },
 "nbformat": 4,
 "nbformat_minor": 2
}
