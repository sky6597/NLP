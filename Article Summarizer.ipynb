{
 "cells": [
  {
   "cell_type": "code",
   "execution_count": 67,
   "metadata": {},
   "outputs": [
    {
     "name": "stdout",
     "output_type": "stream",
     "text": [
      "[nltk_data] Downloading package stopwords to\n",
      "[nltk_data]     C:\\Users\\Akash\\AppData\\Roaming\\nltk_data...\n",
      "[nltk_data]   Package stopwords is already up-to-date!\n"
     ]
    }
   ],
   "source": [
    "#import library\n",
    "import bs4 as bs\n",
    "import urllib.request\n",
    "import re\n",
    "import nltk\n",
    "nltk.download('stopwords')\n",
    "import heapq"
   ]
  },
  {
   "cell_type": "code",
   "execution_count": 68,
   "metadata": {},
   "outputs": [],
   "source": [
    "#open article\n",
    "source=urllib.request.urlopen('https://en.wikipedia.org/wiki/2018_Summer_Youth_Olympics').read()"
   ]
  },
  {
   "cell_type": "code",
   "execution_count": 69,
   "metadata": {},
   "outputs": [],
   "source": [
    "#make the gibberish sourcecore to readable form\n",
    "soup=bs.BeautifulSoup(source,'lxml')"
   ]
  },
  {
   "cell_type": "code",
   "execution_count": 70,
   "metadata": {},
   "outputs": [],
   "source": [
    "#extract the paragraph using <P> tag\n",
    "text=''\n",
    "for paragraph in soup.find_all('p'):\n",
    "    text+=paragraph.text"
   ]
  },
  {
   "cell_type": "code",
   "execution_count": 71,
   "metadata": {},
   "outputs": [],
   "source": [
    "#preprocessing\n",
    "text=re.sub(r'\\[[0-9]*\\]',' ',text)\n",
    "text=re.sub(r'\\s+',' ',text)\n",
    "clean_text=text.lower()\n",
    "clean_text=re.sub(r'\\W',' ',clean_text)\n",
    "clean_text=re.sub(r'\\d',' ',clean_text)\n",
    "clean_text=re.sub(r'\\s+',' ',clean_text)"
   ]
  },
  {
   "cell_type": "code",
   "execution_count": 72,
   "metadata": {},
   "outputs": [],
   "source": [
    "#sentence tokenizing\n",
    "sentences=nltk.sent_tokenize(text)\n",
    "stopwords=nltk.corpus.stopwords.words('english')"
   ]
  },
  {
   "cell_type": "code",
   "execution_count": 73,
   "metadata": {},
   "outputs": [],
   "source": [
    "#creating histogram\n",
    "word2count={}\n",
    "for word in nltk.word_tokenize(clean_text):\n",
    "    if word not in stopwords:\n",
    "        if word not in word2count.keys():\n",
    "            word2count[word]=1\n",
    "        else:\n",
    "            word2count[word]+=1"
   ]
  },
  {
   "cell_type": "code",
   "execution_count": 74,
   "metadata": {},
   "outputs": [],
   "source": [
    "#creating weighted histogram\n",
    "for key in word2count.keys():\n",
    "    word2count[key]=word2count[key]/max(word2count.values())"
   ]
  },
  {
   "cell_type": "code",
   "execution_count": 75,
   "metadata": {},
   "outputs": [],
   "source": [
    "#scoring the sentences\n",
    "sent2score={}\n",
    "for sentence in sentences:\n",
    "    for word in nltk.word_tokenize(sentence.lower()):\n",
    "        if word in word2count.keys():\n",
    "            if len(sentence.split(' ')) < 25:\n",
    "                if sentence not in sent2score.keys():\n",
    "                    sent2score[sentence]=word2count[word]\n",
    "                else:\n",
    "                    sent2score[sentence]+=word2count[word]\n",
    "#sent2score"
   ]
  },
  {
   "cell_type": "code",
   "execution_count": 76,
   "metadata": {},
   "outputs": [
    {
     "name": "stdout",
     "output_type": "stream",
     "text": [
      "The mascot was created by the Argentine agency Human Full Agency with direction of Peta Rivero y Hornos.\n",
      "A short video produced by the Buenos Aires Youth Olympic Games Organising Committee (BAYOGOC) shows what each letter on the emblem relates to.\n",
      "On 13 February 2013, the IOC selected Buenos Aires as one of the three Candidate Cities for the 2018 Summer Youth Olympic Games.\n",
      "Venues located in Palermo can be reached by Mitre Line (Tres de Febrero and Lisandro de la Torre station).\n",
      "* Host nation (Argentina)The closing ceremony of the 2018 Summer Youth Olympics will be held at the Youth Olympic Village on 18 October 2018.\n"
     ]
    }
   ],
   "source": [
    "#creating summary\n",
    "best_sentences=heapq.nlargest(5,sent2score,key=sent2score.get)\n",
    "for sentence in best_sentences:\n",
    "    print(sentence)"
   ]
  },
  {
   "cell_type": "code",
   "execution_count": null,
   "metadata": {},
   "outputs": [],
   "source": []
  }
 ],
 "metadata": {
  "kernelspec": {
   "display_name": "Python 3",
   "language": "python",
   "name": "python3"
  },
  "language_info": {
   "codemirror_mode": {
    "name": "ipython",
    "version": 3
   },
   "file_extension": ".py",
   "mimetype": "text/x-python",
   "name": "python",
   "nbconvert_exporter": "python",
   "pygments_lexer": "ipython3",
   "version": "3.6.5"
  }
 },
 "nbformat": 4,
 "nbformat_minor": 2
}
